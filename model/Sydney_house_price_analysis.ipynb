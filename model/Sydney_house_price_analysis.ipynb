{
 "cells": [
  {
   "cell_type": "code",
   "execution_count": 1,
   "metadata": {},
   "outputs": [],
   "source": [
    "import pandas as pd\n",
    "import numpy as np\n",
    "from matplotlib import pyplot as plt\n",
    "%matplotlib inline\n",
    "import matplotlib \n",
    "matplotlib.rcParams[\"figure.figsize\"] = (20,10)"
   ]
  },
  {
   "cell_type": "code",
   "execution_count": 2,
   "metadata": {},
   "outputs": [
    {
     "data": {
      "text/html": [
       "<div>\n",
       "<style scoped>\n",
       "    .dataframe tbody tr th:only-of-type {\n",
       "        vertical-align: middle;\n",
       "    }\n",
       "\n",
       "    .dataframe tbody tr th {\n",
       "        vertical-align: top;\n",
       "    }\n",
       "\n",
       "    .dataframe thead th {\n",
       "        text-align: right;\n",
       "    }\n",
       "</style>\n",
       "<table border=\"1\" class=\"dataframe\">\n",
       "  <thead>\n",
       "    <tr style=\"text-align: right;\">\n",
       "      <th></th>\n",
       "      <th>Date</th>\n",
       "      <th>Id</th>\n",
       "      <th>suburb</th>\n",
       "      <th>postalCode</th>\n",
       "      <th>sellPrice</th>\n",
       "      <th>bed</th>\n",
       "      <th>bath</th>\n",
       "      <th>car</th>\n",
       "      <th>propType</th>\n",
       "    </tr>\n",
       "  </thead>\n",
       "  <tbody>\n",
       "    <tr>\n",
       "      <th>0</th>\n",
       "      <td>2019-06-19</td>\n",
       "      <td>1</td>\n",
       "      <td>Avalon Beach</td>\n",
       "      <td>2107</td>\n",
       "      <td>1210000</td>\n",
       "      <td>4.0</td>\n",
       "      <td>2</td>\n",
       "      <td>2.0</td>\n",
       "      <td>house</td>\n",
       "    </tr>\n",
       "    <tr>\n",
       "      <th>1</th>\n",
       "      <td>2019-06-13</td>\n",
       "      <td>2</td>\n",
       "      <td>Avalon Beach</td>\n",
       "      <td>2107</td>\n",
       "      <td>2250000</td>\n",
       "      <td>4.0</td>\n",
       "      <td>3</td>\n",
       "      <td>4.0</td>\n",
       "      <td>house</td>\n",
       "    </tr>\n",
       "    <tr>\n",
       "      <th>2</th>\n",
       "      <td>2019-06-07</td>\n",
       "      <td>3</td>\n",
       "      <td>Whale Beach</td>\n",
       "      <td>2107</td>\n",
       "      <td>2920000</td>\n",
       "      <td>3.0</td>\n",
       "      <td>3</td>\n",
       "      <td>2.0</td>\n",
       "      <td>house</td>\n",
       "    </tr>\n",
       "    <tr>\n",
       "      <th>3</th>\n",
       "      <td>2019-05-28</td>\n",
       "      <td>4</td>\n",
       "      <td>Avalon Beach</td>\n",
       "      <td>2107</td>\n",
       "      <td>1530000</td>\n",
       "      <td>3.0</td>\n",
       "      <td>1</td>\n",
       "      <td>2.0</td>\n",
       "      <td>house</td>\n",
       "    </tr>\n",
       "    <tr>\n",
       "      <th>4</th>\n",
       "      <td>2019-05-22</td>\n",
       "      <td>5</td>\n",
       "      <td>Whale Beach</td>\n",
       "      <td>2107</td>\n",
       "      <td>8000000</td>\n",
       "      <td>5.0</td>\n",
       "      <td>4</td>\n",
       "      <td>4.0</td>\n",
       "      <td>house</td>\n",
       "    </tr>\n",
       "  </tbody>\n",
       "</table>\n",
       "</div>"
      ],
      "text/plain": [
       "         Date  Id        suburb  postalCode  sellPrice  bed  bath  car  \\\n",
       "0  2019-06-19   1  Avalon Beach        2107    1210000  4.0     2  2.0   \n",
       "1  2019-06-13   2  Avalon Beach        2107    2250000  4.0     3  4.0   \n",
       "2  2019-06-07   3   Whale Beach        2107    2920000  3.0     3  2.0   \n",
       "3  2019-05-28   4  Avalon Beach        2107    1530000  3.0     1  2.0   \n",
       "4  2019-05-22   5   Whale Beach        2107    8000000  5.0     4  4.0   \n",
       "\n",
       "  propType  \n",
       "0    house  \n",
       "1    house  \n",
       "2    house  \n",
       "3    house  \n",
       "4    house  "
      ]
     },
     "execution_count": 2,
     "metadata": {},
     "output_type": "execute_result"
    }
   ],
   "source": [
    "df1 = pd.read_csv('dataset/SydneyHousePrices.csv')\n",
    "df1.head()"
   ]
  },
  {
   "cell_type": "code",
   "execution_count": 3,
   "metadata": {},
   "outputs": [
    {
     "data": {
      "text/plain": [
       "(199504, 9)"
      ]
     },
     "execution_count": 3,
     "metadata": {},
     "output_type": "execute_result"
    }
   ],
   "source": [
    "df1.shape"
   ]
  },
  {
   "cell_type": "code",
   "execution_count": 4,
   "metadata": {},
   "outputs": [
    {
     "data": {
      "text/plain": [
       "suburb\n",
       "Abbotsbury     125\n",
       "Abbotsford     236\n",
       "Agnes Banks     47\n",
       "Airds           31\n",
       "Alexandria     760\n",
       "              ... \n",
       "Yarrawarrah     65\n",
       "Yellow Rock     51\n",
       "Yennora         32\n",
       "Yowie Bay      214\n",
       "Zetland        134\n",
       "Name: suburb, Length: 685, dtype: int64"
      ]
     },
     "execution_count": 4,
     "metadata": {},
     "output_type": "execute_result"
    }
   ],
   "source": [
    "df1.groupby('suburb')['suburb'].agg('count')"
   ]
  },
  {
   "cell_type": "code",
   "execution_count": 5,
   "metadata": {},
   "outputs": [
    {
     "data": {
      "text/plain": [
       "Date              0\n",
       "Id                0\n",
       "suburb            0\n",
       "postalCode        0\n",
       "sellPrice         0\n",
       "bed             154\n",
       "bath              0\n",
       "car           18151\n",
       "propType          0\n",
       "dtype: int64"
      ]
     },
     "execution_count": 5,
     "metadata": {},
     "output_type": "execute_result"
    }
   ],
   "source": [
    "df1.isnull().sum()"
   ]
  },
  {
   "cell_type": "code",
   "execution_count": 6,
   "metadata": {},
   "outputs": [
    {
     "data": {
      "text/plain": [
       "array(['house', 'townhouse', 'duplex/semi-detached', 'villa', 'other',\n",
       "       'terrace', 'warehouse', 'acreage'], dtype=object)"
      ]
     },
     "execution_count": 6,
     "metadata": {},
     "output_type": "execute_result"
    }
   ],
   "source": [
    "df1['propType'].unique()"
   ]
  },
  {
   "cell_type": "code",
   "execution_count": 7,
   "metadata": {},
   "outputs": [
    {
     "data": {
      "text/plain": [
       "suburb\n",
       "Castle Hill         1250\n",
       "Ermington           1248\n",
       "Strathfield         1248\n",
       "Carlingford         1247\n",
       "Auburn              1244\n",
       "                    ... \n",
       "Magenta                1\n",
       "Glenmore               1\n",
       "Bannockburn            1\n",
       "Balmoral Village       1\n",
       "Mount Helen            1\n",
       "Name: suburb, Length: 685, dtype: int64"
      ]
     },
     "execution_count": 7,
     "metadata": {},
     "output_type": "execute_result"
    }
   ],
   "source": [
    "df1.suburb = df1.suburb.apply(lambda x: x.strip())\n",
    "suburb_stats = df1.groupby('suburb')['suburb'].agg('count').sort_values(ascending=False)\n",
    "suburb_stats"
   ]
  },
  {
   "cell_type": "code",
   "execution_count": 8,
   "metadata": {},
   "outputs": [
    {
     "data": {
      "text/plain": [
       "199504"
      ]
     },
     "execution_count": 8,
     "metadata": {},
     "output_type": "execute_result"
    }
   ],
   "source": [
    "suburb_stats.values.sum()"
   ]
  },
  {
   "cell_type": "code",
   "execution_count": 9,
   "metadata": {},
   "outputs": [
    {
     "data": {
      "text/plain": [
       "608"
      ]
     },
     "execution_count": 9,
     "metadata": {},
     "output_type": "execute_result"
    }
   ],
   "source": [
    "len(suburb_stats[suburb_stats>10])"
   ]
  },
  {
   "cell_type": "code",
   "execution_count": 10,
   "metadata": {},
   "outputs": [
    {
     "data": {
      "text/plain": [
       "suburb\n",
       "Waterfall           10\n",
       "Claymore            10\n",
       "Warwick Farm        10\n",
       "Wentworth Point     10\n",
       "Kirkham             10\n",
       "                    ..\n",
       "Magenta              1\n",
       "Glenmore             1\n",
       "Bannockburn          1\n",
       "Balmoral Village     1\n",
       "Mount Helen          1\n",
       "Name: suburb, Length: 77, dtype: int64"
      ]
     },
     "execution_count": 10,
     "metadata": {},
     "output_type": "execute_result"
    }
   ],
   "source": [
    "suburb_stats_less_than_10 = suburb_stats[suburb_stats<=10]\n",
    "suburb_stats_less_than_10"
   ]
  },
  {
   "cell_type": "code",
   "execution_count": 11,
   "metadata": {},
   "outputs": [
    {
     "data": {
      "text/plain": [
       "685"
      ]
     },
     "execution_count": 11,
     "metadata": {},
     "output_type": "execute_result"
    }
   ],
   "source": [
    "len(df1.suburb.unique())"
   ]
  },
  {
   "cell_type": "code",
   "execution_count": 12,
   "metadata": {},
   "outputs": [
    {
     "data": {
      "text/plain": [
       "609"
      ]
     },
     "execution_count": 12,
     "metadata": {},
     "output_type": "execute_result"
    }
   ],
   "source": [
    "df1.suburb = df1.suburb.apply(lambda x: 'other' if x in suburb_stats_less_than_10 else x)\n",
    "len(df1.suburb.unique())"
   ]
  },
  {
   "cell_type": "markdown",
   "metadata": {},
   "source": [
    "\n",
    "## Outlier Removal Using Standard Deviation and Mean"
   ]
  },
  {
   "cell_type": "code",
   "execution_count": 13,
   "metadata": {},
   "outputs": [
    {
     "data": {
      "text/plain": [
       "count    1.995040e+05\n",
       "mean     1.269776e+06\n",
       "std      6.948239e+06\n",
       "min      1.000000e+00\n",
       "25%      7.200000e+05\n",
       "50%      9.850000e+05\n",
       "75%      1.475000e+06\n",
       "max      2.147484e+09\n",
       "Name: sellPrice, dtype: float64"
      ]
     },
     "execution_count": 13,
     "metadata": {},
     "output_type": "execute_result"
    }
   ],
   "source": [
    "df1.sellPrice.describe()"
   ]
  },
  {
   "cell_type": "code",
   "execution_count": 14,
   "metadata": {},
   "outputs": [
    {
     "data": {
      "text/plain": [
       "(155252, 9)"
      ]
     },
     "execution_count": 14,
     "metadata": {},
     "output_type": "execute_result"
    }
   ],
   "source": [
    "def remove_pps_outliers(df):\n",
    "    df_out = pd.DataFrame()\n",
    "    for key, subdf in df.groupby('suburb'):\n",
    "        m = np.mean(subdf.sellPrice)\n",
    "        st = np.std(subdf.sellPrice)\n",
    "        reduced_df = subdf[(subdf.sellPrice>(m-st)) & (subdf.sellPrice<=(m+st))]\n",
    "        df_out = pd.concat([df_out,reduced_df],ignore_index=True)\n",
    "    return df_out\n",
    "df2 = remove_pps_outliers(df1)\n",
    "df2.shape"
   ]
  },
  {
   "cell_type": "code",
   "execution_count": 15,
   "metadata": {},
   "outputs": [
    {
     "data": {
      "image/png": "[encoded data removed]",
      "text/plain": [
       "<Figure size 1080x720 with 1 Axes>"
      ]
     },
     "metadata": {
      "needs_background": "light"
     },
     "output_type": "display_data"
    }
   ],
   "source": [
    "\n",
    "def plot_scatter_chart(df, suburb):\n",
    "\n",
    "    bed_rooms = df[(df.suburb==suburb) & (df.bed > 0)]\n",
    "    matplotlib.rcParams['figure.figsize'] = (15,10)\n",
    "    plt.scatter(bed_rooms.bed, bed_rooms.sellPrice, marker='+', color='green',label='Bedrooms', s=50)\n",
    "    plt.xlabel(\"Number of bedroom\")\n",
    "    plt.ylabel(\"Price\")\n",
    "    plt.title(suburb)\n",
    "    plt.legend()\n",
    "    \n",
    "plot_scatter_chart(df2,\"Castle Hill\")"
   ]
  },
  {
   "cell_type": "code",
   "execution_count": 16,
   "metadata": {},
   "outputs": [
    {
     "data": {
      "text/plain": [
       "Text(0, 0.5, 'Price')"
      ]
     },
     "execution_count": 16,
     "metadata": {},
     "output_type": "execute_result"
    },
    {
     "data": {
      "image/png": "[encoded data removed]",
      "text/plain": [
       "<Figure size 1440x720 with 1 Axes>"
      ]
     },
     "metadata": {
      "needs_background": "light"
     },
     "output_type": "display_data"
    }
   ],
   "source": [
    "\n",
    "matplotlib.rcParams[\"figure.figsize\"] = (20,10)\n",
    "plt.hist(df2.sellPrice,rwidth=0.8)\n",
    "plt.xlabel(\"Count\")\n",
    "plt.ylabel(\"Price\")"
   ]
  },
  {
   "cell_type": "code",
   "execution_count": 17,
   "metadata": {},
   "outputs": [
    {
     "data": {
      "text/plain": [
       "array([ 2,  3,  1,  4,  5,  7,  6,  8, 15, 10, 20, 11,  9, 12])"
      ]
     },
     "execution_count": 17,
     "metadata": {},
     "output_type": "execute_result"
    }
   ],
   "source": [
    "df2.bath.unique()"
   ]
  },
  {
   "cell_type": "code",
   "execution_count": 18,
   "metadata": {},
   "outputs": [
    {
     "data": {
      "text/plain": [
       "Text(0, 0.5, 'Count')"
      ]
     },
     "execution_count": 18,
     "metadata": {},
     "output_type": "execute_result"
    },
    {
     "data": {
      "image/png": "[encoded data removed]",
      "text/plain": [
       "<Figure size 1440x720 with 1 Axes>"
      ]
     },
     "metadata": {
      "needs_background": "light"
     },
     "output_type": "display_data"
    }
   ],
   "source": [
    "plt.hist(df2.bath,rwidth=0.8)\n",
    "plt.xlabel(\"Number of bathrooms\")\n",
    "plt.ylabel(\"Count\")"
   ]
  },
  {
   "cell_type": "code",
   "execution_count": 19,
   "metadata": {},
   "outputs": [
    {
     "data": {
      "text/html": [
       "<div>\n",
       "<style scoped>\n",
       "    .dataframe tbody tr th:only-of-type {\n",
       "        vertical-align: middle;\n",
       "    }\n",
       "\n",
       "    .dataframe tbody tr th {\n",
       "        vertical-align: top;\n",
       "    }\n",
       "\n",
       "    .dataframe thead th {\n",
       "        text-align: right;\n",
       "    }\n",
       "</style>\n",
       "<table border=\"1\" class=\"dataframe\">\n",
       "  <thead>\n",
       "    <tr style=\"text-align: right;\">\n",
       "      <th></th>\n",
       "      <th>Date</th>\n",
       "      <th>Id</th>\n",
       "      <th>suburb</th>\n",
       "      <th>postalCode</th>\n",
       "      <th>sellPrice</th>\n",
       "      <th>bed</th>\n",
       "      <th>bath</th>\n",
       "      <th>car</th>\n",
       "      <th>propType</th>\n",
       "    </tr>\n",
       "  </thead>\n",
       "  <tbody>\n",
       "    <tr>\n",
       "      <th>23285</th>\n",
       "      <td>2010-05-10</td>\n",
       "      <td>170697</td>\n",
       "      <td>Burwood</td>\n",
       "      <td>2134</td>\n",
       "      <td>2750000</td>\n",
       "      <td>21.0</td>\n",
       "      <td>15</td>\n",
       "      <td>6.0</td>\n",
       "      <td>house</td>\n",
       "    </tr>\n",
       "    <tr>\n",
       "      <th>31923</th>\n",
       "      <td>2014-04-30</td>\n",
       "      <td>28317</td>\n",
       "      <td>Chatswood</td>\n",
       "      <td>2067</td>\n",
       "      <td>2600000</td>\n",
       "      <td>30.0</td>\n",
       "      <td>20</td>\n",
       "      <td>20.0</td>\n",
       "      <td>house</td>\n",
       "    </tr>\n",
       "    <tr>\n",
       "      <th>71082</th>\n",
       "      <td>2013-11-28</td>\n",
       "      <td>152091</td>\n",
       "      <td>Homebush West</td>\n",
       "      <td>2140</td>\n",
       "      <td>2110000</td>\n",
       "      <td>20.0</td>\n",
       "      <td>20</td>\n",
       "      <td>10.0</td>\n",
       "      <td>house</td>\n",
       "    </tr>\n",
       "    <tr>\n",
       "      <th>109775</th>\n",
       "      <td>2016-07-01</td>\n",
       "      <td>129982</td>\n",
       "      <td>Paddington</td>\n",
       "      <td>2021</td>\n",
       "      <td>2550000</td>\n",
       "      <td>11.0</td>\n",
       "      <td>11</td>\n",
       "      <td>NaN</td>\n",
       "      <td>terrace</td>\n",
       "    </tr>\n",
       "    <tr>\n",
       "      <th>139106</th>\n",
       "      <td>2018-05-31</td>\n",
       "      <td>77856</td>\n",
       "      <td>Sylvania</td>\n",
       "      <td>2224</td>\n",
       "      <td>2370000</td>\n",
       "      <td>16.0</td>\n",
       "      <td>12</td>\n",
       "      <td>9.0</td>\n",
       "      <td>house</td>\n",
       "    </tr>\n",
       "  </tbody>\n",
       "</table>\n",
       "</div>"
      ],
      "text/plain": [
       "              Date      Id         suburb  postalCode  sellPrice   bed  bath  \\\n",
       "23285   2010-05-10  170697        Burwood        2134    2750000  21.0    15   \n",
       "31923   2014-04-30   28317      Chatswood        2067    2600000  30.0    20   \n",
       "71082   2013-11-28  152091  Homebush West        2140    2110000  20.0    20   \n",
       "109775  2016-07-01  129982     Paddington        2021    2550000  11.0    11   \n",
       "139106  2018-05-31   77856       Sylvania        2224    2370000  16.0    12   \n",
       "\n",
       "         car propType  \n",
       "23285    6.0    house  \n",
       "31923   20.0    house  \n",
       "71082   10.0    house  \n",
       "109775   NaN  terrace  \n",
       "139106   9.0    house  "
      ]
     },
     "execution_count": 19,
     "metadata": {},
     "output_type": "execute_result"
    }
   ],
   "source": [
    "df2[df2.bath>10]"
   ]
  },
  {
   "cell_type": "markdown",
   "metadata": {},
   "source": [
    "## Use one hot encoding for suburb"
   ]
  },
  {
   "cell_type": "code",
   "execution_count": 20,
   "metadata": {},
   "outputs": [
    {
     "data": {
      "text/html": [
       "<div>\n",
       "<style scoped>\n",
       "    .dataframe tbody tr th:only-of-type {\n",
       "        vertical-align: middle;\n",
       "    }\n",
       "\n",
       "    .dataframe tbody tr th {\n",
       "        vertical-align: top;\n",
       "    }\n",
       "\n",
       "    .dataframe thead th {\n",
       "        text-align: right;\n",
       "    }\n",
       "</style>\n",
       "<table border=\"1\" class=\"dataframe\">\n",
       "  <thead>\n",
       "    <tr style=\"text-align: right;\">\n",
       "      <th></th>\n",
       "      <th>Abbotsbury</th>\n",
       "      <th>Abbotsford</th>\n",
       "      <th>Agnes Banks</th>\n",
       "      <th>Airds</th>\n",
       "      <th>Alexandria</th>\n",
       "      <th>Alfords Point</th>\n",
       "      <th>Allambie Heights</th>\n",
       "      <th>Allawah</th>\n",
       "      <th>Ambarvale</th>\n",
       "      <th>Annandale</th>\n",
       "      <th>...</th>\n",
       "      <th>Woronora Heights</th>\n",
       "      <th>Yagoona</th>\n",
       "      <th>Yanderra</th>\n",
       "      <th>Yarramundi</th>\n",
       "      <th>Yarrawarrah</th>\n",
       "      <th>Yellow Rock</th>\n",
       "      <th>Yennora</th>\n",
       "      <th>Yowie Bay</th>\n",
       "      <th>Zetland</th>\n",
       "      <th>other</th>\n",
       "    </tr>\n",
       "  </thead>\n",
       "  <tbody>\n",
       "    <tr>\n",
       "      <th>0</th>\n",
       "      <td>1</td>\n",
       "      <td>0</td>\n",
       "      <td>0</td>\n",
       "      <td>0</td>\n",
       "      <td>0</td>\n",
       "      <td>0</td>\n",
       "      <td>0</td>\n",
       "      <td>0</td>\n",
       "      <td>0</td>\n",
       "      <td>0</td>\n",
       "      <td>...</td>\n",
       "      <td>0</td>\n",
       "      <td>0</td>\n",
       "      <td>0</td>\n",
       "      <td>0</td>\n",
       "      <td>0</td>\n",
       "      <td>0</td>\n",
       "      <td>0</td>\n",
       "      <td>0</td>\n",
       "      <td>0</td>\n",
       "      <td>0</td>\n",
       "    </tr>\n",
       "    <tr>\n",
       "      <th>1</th>\n",
       "      <td>1</td>\n",
       "      <td>0</td>\n",
       "      <td>0</td>\n",
       "      <td>0</td>\n",
       "      <td>0</td>\n",
       "      <td>0</td>\n",
       "      <td>0</td>\n",
       "      <td>0</td>\n",
       "      <td>0</td>\n",
       "      <td>0</td>\n",
       "      <td>...</td>\n",
       "      <td>0</td>\n",
       "      <td>0</td>\n",
       "      <td>0</td>\n",
       "      <td>0</td>\n",
       "      <td>0</td>\n",
       "      <td>0</td>\n",
       "      <td>0</td>\n",
       "      <td>0</td>\n",
       "      <td>0</td>\n",
       "      <td>0</td>\n",
       "    </tr>\n",
       "    <tr>\n",
       "      <th>2</th>\n",
       "      <td>1</td>\n",
       "      <td>0</td>\n",
       "      <td>0</td>\n",
       "      <td>0</td>\n",
       "      <td>0</td>\n",
       "      <td>0</td>\n",
       "      <td>0</td>\n",
       "      <td>0</td>\n",
       "      <td>0</td>\n",
       "      <td>0</td>\n",
       "      <td>...</td>\n",
       "      <td>0</td>\n",
       "      <td>0</td>\n",
       "      <td>0</td>\n",
       "      <td>0</td>\n",
       "      <td>0</td>\n",
       "      <td>0</td>\n",
       "      <td>0</td>\n",
       "      <td>0</td>\n",
       "      <td>0</td>\n",
       "      <td>0</td>\n",
       "    </tr>\n",
       "    <tr>\n",
       "      <th>3</th>\n",
       "      <td>1</td>\n",
       "      <td>0</td>\n",
       "      <td>0</td>\n",
       "      <td>0</td>\n",
       "      <td>0</td>\n",
       "      <td>0</td>\n",
       "      <td>0</td>\n",
       "      <td>0</td>\n",
       "      <td>0</td>\n",
       "      <td>0</td>\n",
       "      <td>...</td>\n",
       "      <td>0</td>\n",
       "      <td>0</td>\n",
       "      <td>0</td>\n",
       "      <td>0</td>\n",
       "      <td>0</td>\n",
       "      <td>0</td>\n",
       "      <td>0</td>\n",
       "      <td>0</td>\n",
       "      <td>0</td>\n",
       "      <td>0</td>\n",
       "    </tr>\n",
       "    <tr>\n",
       "      <th>4</th>\n",
       "      <td>1</td>\n",
       "      <td>0</td>\n",
       "      <td>0</td>\n",
       "      <td>0</td>\n",
       "      <td>0</td>\n",
       "      <td>0</td>\n",
       "      <td>0</td>\n",
       "      <td>0</td>\n",
       "      <td>0</td>\n",
       "      <td>0</td>\n",
       "      <td>...</td>\n",
       "      <td>0</td>\n",
       "      <td>0</td>\n",
       "      <td>0</td>\n",
       "      <td>0</td>\n",
       "      <td>0</td>\n",
       "      <td>0</td>\n",
       "      <td>0</td>\n",
       "      <td>0</td>\n",
       "      <td>0</td>\n",
       "      <td>0</td>\n",
       "    </tr>\n",
       "  </tbody>\n",
       "</table>\n",
       "<p>5 rows × 609 columns</p>\n",
       "</div>"
      ],
      "text/plain": [
       "   Abbotsbury  Abbotsford  Agnes Banks  Airds  Alexandria  Alfords Point  \\\n",
       "0           1           0            0      0           0              0   \n",
       "1           1           0            0      0           0              0   \n",
       "2           1           0            0      0           0              0   \n",
       "3           1           0            0      0           0              0   \n",
       "4           1           0            0      0           0              0   \n",
       "\n",
       "   Allambie Heights  Allawah  Ambarvale  Annandale  ...  Woronora Heights  \\\n",
       "0                 0        0          0          0  ...                 0   \n",
       "1                 0        0          0          0  ...                 0   \n",
       "2                 0        0          0          0  ...                 0   \n",
       "3                 0        0          0          0  ...                 0   \n",
       "4                 0        0          0          0  ...                 0   \n",
       "\n",
       "   Yagoona  Yanderra  Yarramundi  Yarrawarrah  Yellow Rock  Yennora  \\\n",
       "0        0         0           0            0            0        0   \n",
       "1        0         0           0            0            0        0   \n",
       "2        0         0           0            0            0        0   \n",
       "3        0         0           0            0            0        0   \n",
       "4        0         0           0            0            0        0   \n",
       "\n",
       "   Yowie Bay  Zetland  other  \n",
       "0          0        0      0  \n",
       "1          0        0      0  \n",
       "2          0        0      0  \n",
       "3          0        0      0  \n",
       "4          0        0      0  \n",
       "\n",
       "[5 rows x 609 columns]"
      ]
     },
     "execution_count": 20,
     "metadata": {},
     "output_type": "execute_result"
    }
   ],
   "source": [
    "dummies = pd.get_dummies(df2.suburb)\n",
    "dummies.head()"
   ]
  },
  {
   "cell_type": "code",
   "execution_count": 21,
   "metadata": {},
   "outputs": [
    {
     "data": {
      "text/html": [
       "<div>\n",
       "<style scoped>\n",
       "    .dataframe tbody tr th:only-of-type {\n",
       "        vertical-align: middle;\n",
       "    }\n",
       "\n",
       "    .dataframe tbody tr th {\n",
       "        vertical-align: top;\n",
       "    }\n",
       "\n",
       "    .dataframe thead th {\n",
       "        text-align: right;\n",
       "    }\n",
       "</style>\n",
       "<table border=\"1\" class=\"dataframe\">\n",
       "  <thead>\n",
       "    <tr style=\"text-align: right;\">\n",
       "      <th></th>\n",
       "      <th>Date</th>\n",
       "      <th>Id</th>\n",
       "      <th>suburb</th>\n",
       "      <th>postalCode</th>\n",
       "      <th>sellPrice</th>\n",
       "      <th>bed</th>\n",
       "      <th>bath</th>\n",
       "      <th>car</th>\n",
       "      <th>propType</th>\n",
       "      <th>Abbotsbury</th>\n",
       "      <th>...</th>\n",
       "      <th>Woronora</th>\n",
       "      <th>Woronora Heights</th>\n",
       "      <th>Yagoona</th>\n",
       "      <th>Yanderra</th>\n",
       "      <th>Yarramundi</th>\n",
       "      <th>Yarrawarrah</th>\n",
       "      <th>Yellow Rock</th>\n",
       "      <th>Yennora</th>\n",
       "      <th>Yowie Bay</th>\n",
       "      <th>Zetland</th>\n",
       "    </tr>\n",
       "  </thead>\n",
       "  <tbody>\n",
       "    <tr>\n",
       "      <th>0</th>\n",
       "      <td>2019-07-04</td>\n",
       "      <td>38561</td>\n",
       "      <td>Abbotsbury</td>\n",
       "      <td>2176</td>\n",
       "      <td>838000</td>\n",
       "      <td>4.0</td>\n",
       "      <td>2</td>\n",
       "      <td>3.0</td>\n",
       "      <td>house</td>\n",
       "      <td>1</td>\n",
       "      <td>...</td>\n",
       "      <td>0</td>\n",
       "      <td>0</td>\n",
       "      <td>0</td>\n",
       "      <td>0</td>\n",
       "      <td>0</td>\n",
       "      <td>0</td>\n",
       "      <td>0</td>\n",
       "      <td>0</td>\n",
       "      <td>0</td>\n",
       "      <td>0</td>\n",
       "    </tr>\n",
       "    <tr>\n",
       "      <th>1</th>\n",
       "      <td>2019-06-05</td>\n",
       "      <td>38571</td>\n",
       "      <td>Abbotsbury</td>\n",
       "      <td>2176</td>\n",
       "      <td>930000</td>\n",
       "      <td>5.0</td>\n",
       "      <td>3</td>\n",
       "      <td>3.0</td>\n",
       "      <td>house</td>\n",
       "      <td>1</td>\n",
       "      <td>...</td>\n",
       "      <td>0</td>\n",
       "      <td>0</td>\n",
       "      <td>0</td>\n",
       "      <td>0</td>\n",
       "      <td>0</td>\n",
       "      <td>0</td>\n",
       "      <td>0</td>\n",
       "      <td>0</td>\n",
       "      <td>0</td>\n",
       "      <td>0</td>\n",
       "    </tr>\n",
       "    <tr>\n",
       "      <th>2</th>\n",
       "      <td>2019-05-01</td>\n",
       "      <td>38594</td>\n",
       "      <td>Abbotsbury</td>\n",
       "      <td>2176</td>\n",
       "      <td>830000</td>\n",
       "      <td>3.0</td>\n",
       "      <td>1</td>\n",
       "      <td>2.0</td>\n",
       "      <td>house</td>\n",
       "      <td>1</td>\n",
       "      <td>...</td>\n",
       "      <td>0</td>\n",
       "      <td>0</td>\n",
       "      <td>0</td>\n",
       "      <td>0</td>\n",
       "      <td>0</td>\n",
       "      <td>0</td>\n",
       "      <td>0</td>\n",
       "      <td>0</td>\n",
       "      <td>0</td>\n",
       "      <td>0</td>\n",
       "    </tr>\n",
       "    <tr>\n",
       "      <th>3</th>\n",
       "      <td>2019-04-06</td>\n",
       "      <td>38601</td>\n",
       "      <td>Abbotsbury</td>\n",
       "      <td>2176</td>\n",
       "      <td>915000</td>\n",
       "      <td>4.0</td>\n",
       "      <td>3</td>\n",
       "      <td>2.0</td>\n",
       "      <td>house</td>\n",
       "      <td>1</td>\n",
       "      <td>...</td>\n",
       "      <td>0</td>\n",
       "      <td>0</td>\n",
       "      <td>0</td>\n",
       "      <td>0</td>\n",
       "      <td>0</td>\n",
       "      <td>0</td>\n",
       "      <td>0</td>\n",
       "      <td>0</td>\n",
       "      <td>0</td>\n",
       "      <td>0</td>\n",
       "    </tr>\n",
       "    <tr>\n",
       "      <th>4</th>\n",
       "      <td>2019-04-06</td>\n",
       "      <td>38602</td>\n",
       "      <td>Abbotsbury</td>\n",
       "      <td>2176</td>\n",
       "      <td>867000</td>\n",
       "      <td>4.0</td>\n",
       "      <td>2</td>\n",
       "      <td>5.0</td>\n",
       "      <td>house</td>\n",
       "      <td>1</td>\n",
       "      <td>...</td>\n",
       "      <td>0</td>\n",
       "      <td>0</td>\n",
       "      <td>0</td>\n",
       "      <td>0</td>\n",
       "      <td>0</td>\n",
       "      <td>0</td>\n",
       "      <td>0</td>\n",
       "      <td>0</td>\n",
       "      <td>0</td>\n",
       "      <td>0</td>\n",
       "    </tr>\n",
       "  </tbody>\n",
       "</table>\n",
       "<p>5 rows × 617 columns</p>\n",
       "</div>"
      ],
      "text/plain": [
       "         Date     Id      suburb  postalCode  sellPrice  bed  bath  car  \\\n",
       "0  2019-07-04  38561  Abbotsbury        2176     838000  4.0     2  3.0   \n",
       "1  2019-06-05  38571  Abbotsbury        2176     930000  5.0     3  3.0   \n",
       "2  2019-05-01  38594  Abbotsbury        2176     830000  3.0     1  2.0   \n",
       "3  2019-04-06  38601  Abbotsbury        2176     915000  4.0     3  2.0   \n",
       "4  2019-04-06  38602  Abbotsbury        2176     867000  4.0     2  5.0   \n",
       "\n",
       "  propType  Abbotsbury  ...  Woronora  Woronora Heights  Yagoona  Yanderra  \\\n",
       "0    house           1  ...         0                 0        0         0   \n",
       "1    house           1  ...         0                 0        0         0   \n",
       "2    house           1  ...         0                 0        0         0   \n",
       "3    house           1  ...         0                 0        0         0   \n",
       "4    house           1  ...         0                 0        0         0   \n",
       "\n",
       "   Yarramundi  Yarrawarrah  Yellow Rock  Yennora  Yowie Bay  Zetland  \n",
       "0           0            0            0        0          0        0  \n",
       "1           0            0            0        0          0        0  \n",
       "2           0            0            0        0          0        0  \n",
       "3           0            0            0        0          0        0  \n",
       "4           0            0            0        0          0        0  \n",
       "\n",
       "[5 rows x 617 columns]"
      ]
     },
     "execution_count": 21,
     "metadata": {},
     "output_type": "execute_result"
    }
   ],
   "source": [
    "df3 = pd.concat([df2,dummies.drop('other',axis='columns')],axis='columns')\n",
    "df3.head()"
   ]
  },
  {
   "cell_type": "markdown",
   "metadata": {},
   "source": [
    "## Replace PropType to Number"
   ]
  },
  {
   "cell_type": "code",
   "execution_count": 36,
   "metadata": {},
   "outputs": [
    {
     "data": {
      "text/html": [
       "<div>\n",
       "<style scoped>\n",
       "    .dataframe tbody tr th:only-of-type {\n",
       "        vertical-align: middle;\n",
       "    }\n",
       "\n",
       "    .dataframe tbody tr th {\n",
       "        vertical-align: top;\n",
       "    }\n",
       "\n",
       "    .dataframe thead th {\n",
       "        text-align: right;\n",
       "    }\n",
       "</style>\n",
       "<table border=\"1\" class=\"dataframe\">\n",
       "  <thead>\n",
       "    <tr style=\"text-align: right;\">\n",
       "      <th></th>\n",
       "      <th>Date</th>\n",
       "      <th>Id</th>\n",
       "      <th>suburb</th>\n",
       "      <th>postalCode</th>\n",
       "      <th>sellPrice</th>\n",
       "      <th>bed</th>\n",
       "      <th>bath</th>\n",
       "      <th>car</th>\n",
       "      <th>propType</th>\n",
       "      <th>Abbotsbury</th>\n",
       "      <th>...</th>\n",
       "      <th>Woronora</th>\n",
       "      <th>Woronora Heights</th>\n",
       "      <th>Yagoona</th>\n",
       "      <th>Yanderra</th>\n",
       "      <th>Yarramundi</th>\n",
       "      <th>Yarrawarrah</th>\n",
       "      <th>Yellow Rock</th>\n",
       "      <th>Yennora</th>\n",
       "      <th>Yowie Bay</th>\n",
       "      <th>Zetland</th>\n",
       "    </tr>\n",
       "  </thead>\n",
       "  <tbody>\n",
       "    <tr>\n",
       "      <th>0</th>\n",
       "      <td>2019-07-04</td>\n",
       "      <td>38561</td>\n",
       "      <td>Abbotsbury</td>\n",
       "      <td>2176</td>\n",
       "      <td>838000</td>\n",
       "      <td>4.0</td>\n",
       "      <td>2</td>\n",
       "      <td>3.0</td>\n",
       "      <td>0</td>\n",
       "      <td>1</td>\n",
       "      <td>...</td>\n",
       "      <td>0</td>\n",
       "      <td>0</td>\n",
       "      <td>0</td>\n",
       "      <td>0</td>\n",
       "      <td>0</td>\n",
       "      <td>0</td>\n",
       "      <td>0</td>\n",
       "      <td>0</td>\n",
       "      <td>0</td>\n",
       "      <td>0</td>\n",
       "    </tr>\n",
       "    <tr>\n",
       "      <th>1</th>\n",
       "      <td>2019-06-05</td>\n",
       "      <td>38571</td>\n",
       "      <td>Abbotsbury</td>\n",
       "      <td>2176</td>\n",
       "      <td>930000</td>\n",
       "      <td>5.0</td>\n",
       "      <td>3</td>\n",
       "      <td>3.0</td>\n",
       "      <td>0</td>\n",
       "      <td>1</td>\n",
       "      <td>...</td>\n",
       "      <td>0</td>\n",
       "      <td>0</td>\n",
       "      <td>0</td>\n",
       "      <td>0</td>\n",
       "      <td>0</td>\n",
       "      <td>0</td>\n",
       "      <td>0</td>\n",
       "      <td>0</td>\n",
       "      <td>0</td>\n",
       "      <td>0</td>\n",
       "    </tr>\n",
       "    <tr>\n",
       "      <th>2</th>\n",
       "      <td>2019-05-01</td>\n",
       "      <td>38594</td>\n",
       "      <td>Abbotsbury</td>\n",
       "      <td>2176</td>\n",
       "      <td>830000</td>\n",
       "      <td>3.0</td>\n",
       "      <td>1</td>\n",
       "      <td>2.0</td>\n",
       "      <td>0</td>\n",
       "      <td>1</td>\n",
       "      <td>...</td>\n",
       "      <td>0</td>\n",
       "      <td>0</td>\n",
       "      <td>0</td>\n",
       "      <td>0</td>\n",
       "      <td>0</td>\n",
       "      <td>0</td>\n",
       "      <td>0</td>\n",
       "      <td>0</td>\n",
       "      <td>0</td>\n",
       "      <td>0</td>\n",
       "    </tr>\n",
       "    <tr>\n",
       "      <th>3</th>\n",
       "      <td>2019-04-06</td>\n",
       "      <td>38601</td>\n",
       "      <td>Abbotsbury</td>\n",
       "      <td>2176</td>\n",
       "      <td>915000</td>\n",
       "      <td>4.0</td>\n",
       "      <td>3</td>\n",
       "      <td>2.0</td>\n",
       "      <td>0</td>\n",
       "      <td>1</td>\n",
       "      <td>...</td>\n",
       "      <td>0</td>\n",
       "      <td>0</td>\n",
       "      <td>0</td>\n",
       "      <td>0</td>\n",
       "      <td>0</td>\n",
       "      <td>0</td>\n",
       "      <td>0</td>\n",
       "      <td>0</td>\n",
       "      <td>0</td>\n",
       "      <td>0</td>\n",
       "    </tr>\n",
       "    <tr>\n",
       "      <th>4</th>\n",
       "      <td>2019-04-06</td>\n",
       "      <td>38602</td>\n",
       "      <td>Abbotsbury</td>\n",
       "      <td>2176</td>\n",
       "      <td>867000</td>\n",
       "      <td>4.0</td>\n",
       "      <td>2</td>\n",
       "      <td>5.0</td>\n",
       "      <td>0</td>\n",
       "      <td>1</td>\n",
       "      <td>...</td>\n",
       "      <td>0</td>\n",
       "      <td>0</td>\n",
       "      <td>0</td>\n",
       "      <td>0</td>\n",
       "      <td>0</td>\n",
       "      <td>0</td>\n",
       "      <td>0</td>\n",
       "      <td>0</td>\n",
       "      <td>0</td>\n",
       "      <td>0</td>\n",
       "    </tr>\n",
       "  </tbody>\n",
       "</table>\n",
       "<p>5 rows × 617 columns</p>\n",
       "</div>"
      ],
      "text/plain": [
       "         Date     Id      suburb  postalCode  sellPrice  bed  bath  car  \\\n",
       "0  2019-07-04  38561  Abbotsbury        2176     838000  4.0     2  3.0   \n",
       "1  2019-06-05  38571  Abbotsbury        2176     930000  5.0     3  3.0   \n",
       "2  2019-05-01  38594  Abbotsbury        2176     830000  3.0     1  2.0   \n",
       "3  2019-04-06  38601  Abbotsbury        2176     915000  4.0     3  2.0   \n",
       "4  2019-04-06  38602  Abbotsbury        2176     867000  4.0     2  5.0   \n",
       "\n",
       "   propType  Abbotsbury  ...  Woronora  Woronora Heights  Yagoona  Yanderra  \\\n",
       "0         0           1  ...         0                 0        0         0   \n",
       "1         0           1  ...         0                 0        0         0   \n",
       "2         0           1  ...         0                 0        0         0   \n",
       "3         0           1  ...         0                 0        0         0   \n",
       "4         0           1  ...         0                 0        0         0   \n",
       "\n",
       "   Yarramundi  Yarrawarrah  Yellow Rock  Yennora  Yowie Bay  Zetland  \n",
       "0           0            0            0        0          0        0  \n",
       "1           0            0            0        0          0        0  \n",
       "2           0            0            0        0          0        0  \n",
       "3           0            0            0        0          0        0  \n",
       "4           0            0            0        0          0        0  \n",
       "\n",
       "[5 rows x 617 columns]"
      ]
     },
     "execution_count": 36,
     "metadata": {},
     "output_type": "execute_result"
    }
   ],
   "source": [
    "df4 = df3.replace(['house', 'townhouse', 'duplex/semi-detached', 'villa', 'other',\n",
    "  'terrace', 'warehouse', 'acreage'],[0,1,2,3,4,5,6,7])\n",
    "df4.head()"
   ]
  },
  {
   "cell_type": "code",
   "execution_count": 37,
   "metadata": {},
   "outputs": [
    {
     "data": {
      "text/plain": [
       "sellPrice       0\n",
       "bed            89\n",
       "bath            0\n",
       "propType        0\n",
       "Abbotsbury      0\n",
       "               ..\n",
       "Yarrawarrah     0\n",
       "Yellow Rock     0\n",
       "Yennora         0\n",
       "Yowie Bay       0\n",
       "Zetland         0\n",
       "Length: 612, dtype: int64"
      ]
     },
     "execution_count": 37,
     "metadata": {},
     "output_type": "execute_result"
    }
   ],
   "source": [
    "df5 = df4.drop(['Id','postalCode','suburb','Date','car'],axis='columns')\n",
    "df5.isnull().sum()"
   ]
  },
  {
   "cell_type": "code",
   "execution_count": 40,
   "metadata": {},
   "outputs": [
    {
     "data": {
      "text/plain": [
       "sellPrice      0\n",
       "bed            0\n",
       "bath           0\n",
       "propType       0\n",
       "Abbotsbury     0\n",
       "              ..\n",
       "Yarrawarrah    0\n",
       "Yellow Rock    0\n",
       "Yennora        0\n",
       "Yowie Bay      0\n",
       "Zetland        0\n",
       "Length: 612, dtype: int64"
      ]
     },
     "execution_count": 40,
     "metadata": {},
     "output_type": "execute_result"
    }
   ],
   "source": [
    "df6 = df5.dropna()\n",
    "df6.isnull().sum()"
   ]
  },
  {
   "cell_type": "markdown",
   "metadata": {},
   "source": [
    "## Build a model"
   ]
  },
  {
   "cell_type": "code",
   "execution_count": 41,
   "metadata": {},
   "outputs": [
    {
     "data": {
      "text/html": [
       "<div>\n",
       "<style scoped>\n",
       "    .dataframe tbody tr th:only-of-type {\n",
       "        vertical-align: middle;\n",
       "    }\n",
       "\n",
       "    .dataframe tbody tr th {\n",
       "        vertical-align: top;\n",
       "    }\n",
       "\n",
       "    .dataframe thead th {\n",
       "        text-align: right;\n",
       "    }\n",
       "</style>\n",
       "<table border=\"1\" class=\"dataframe\">\n",
       "  <thead>\n",
       "    <tr style=\"text-align: right;\">\n",
       "      <th></th>\n",
       "      <th>bed</th>\n",
       "      <th>bath</th>\n",
       "      <th>propType</th>\n",
       "      <th>Abbotsbury</th>\n",
       "      <th>Abbotsford</th>\n",
       "      <th>Agnes Banks</th>\n",
       "      <th>Airds</th>\n",
       "      <th>Alexandria</th>\n",
       "      <th>Alfords Point</th>\n",
       "      <th>Allambie Heights</th>\n",
       "      <th>...</th>\n",
       "      <th>Woronora</th>\n",
       "      <th>Woronora Heights</th>\n",
       "      <th>Yagoona</th>\n",
       "      <th>Yanderra</th>\n",
       "      <th>Yarramundi</th>\n",
       "      <th>Yarrawarrah</th>\n",
       "      <th>Yellow Rock</th>\n",
       "      <th>Yennora</th>\n",
       "      <th>Yowie Bay</th>\n",
       "      <th>Zetland</th>\n",
       "    </tr>\n",
       "  </thead>\n",
       "  <tbody>\n",
       "    <tr>\n",
       "      <th>0</th>\n",
       "      <td>4.0</td>\n",
       "      <td>2</td>\n",
       "      <td>0</td>\n",
       "      <td>1</td>\n",
       "      <td>0</td>\n",
       "      <td>0</td>\n",
       "      <td>0</td>\n",
       "      <td>0</td>\n",
       "      <td>0</td>\n",
       "      <td>0</td>\n",
       "      <td>...</td>\n",
       "      <td>0</td>\n",
       "      <td>0</td>\n",
       "      <td>0</td>\n",
       "      <td>0</td>\n",
       "      <td>0</td>\n",
       "      <td>0</td>\n",
       "      <td>0</td>\n",
       "      <td>0</td>\n",
       "      <td>0</td>\n",
       "      <td>0</td>\n",
       "    </tr>\n",
       "    <tr>\n",
       "      <th>1</th>\n",
       "      <td>5.0</td>\n",
       "      <td>3</td>\n",
       "      <td>0</td>\n",
       "      <td>1</td>\n",
       "      <td>0</td>\n",
       "      <td>0</td>\n",
       "      <td>0</td>\n",
       "      <td>0</td>\n",
       "      <td>0</td>\n",
       "      <td>0</td>\n",
       "      <td>...</td>\n",
       "      <td>0</td>\n",
       "      <td>0</td>\n",
       "      <td>0</td>\n",
       "      <td>0</td>\n",
       "      <td>0</td>\n",
       "      <td>0</td>\n",
       "      <td>0</td>\n",
       "      <td>0</td>\n",
       "      <td>0</td>\n",
       "      <td>0</td>\n",
       "    </tr>\n",
       "    <tr>\n",
       "      <th>2</th>\n",
       "      <td>3.0</td>\n",
       "      <td>1</td>\n",
       "      <td>0</td>\n",
       "      <td>1</td>\n",
       "      <td>0</td>\n",
       "      <td>0</td>\n",
       "      <td>0</td>\n",
       "      <td>0</td>\n",
       "      <td>0</td>\n",
       "      <td>0</td>\n",
       "      <td>...</td>\n",
       "      <td>0</td>\n",
       "      <td>0</td>\n",
       "      <td>0</td>\n",
       "      <td>0</td>\n",
       "      <td>0</td>\n",
       "      <td>0</td>\n",
       "      <td>0</td>\n",
       "      <td>0</td>\n",
       "      <td>0</td>\n",
       "      <td>0</td>\n",
       "    </tr>\n",
       "    <tr>\n",
       "      <th>3</th>\n",
       "      <td>4.0</td>\n",
       "      <td>3</td>\n",
       "      <td>0</td>\n",
       "      <td>1</td>\n",
       "      <td>0</td>\n",
       "      <td>0</td>\n",
       "      <td>0</td>\n",
       "      <td>0</td>\n",
       "      <td>0</td>\n",
       "      <td>0</td>\n",
       "      <td>...</td>\n",
       "      <td>0</td>\n",
       "      <td>0</td>\n",
       "      <td>0</td>\n",
       "      <td>0</td>\n",
       "      <td>0</td>\n",
       "      <td>0</td>\n",
       "      <td>0</td>\n",
       "      <td>0</td>\n",
       "      <td>0</td>\n",
       "      <td>0</td>\n",
       "    </tr>\n",
       "    <tr>\n",
       "      <th>4</th>\n",
       "      <td>4.0</td>\n",
       "      <td>2</td>\n",
       "      <td>0</td>\n",
       "      <td>1</td>\n",
       "      <td>0</td>\n",
       "      <td>0</td>\n",
       "      <td>0</td>\n",
       "      <td>0</td>\n",
       "      <td>0</td>\n",
       "      <td>0</td>\n",
       "      <td>...</td>\n",
       "      <td>0</td>\n",
       "      <td>0</td>\n",
       "      <td>0</td>\n",
       "      <td>0</td>\n",
       "      <td>0</td>\n",
       "      <td>0</td>\n",
       "      <td>0</td>\n",
       "      <td>0</td>\n",
       "      <td>0</td>\n",
       "      <td>0</td>\n",
       "    </tr>\n",
       "  </tbody>\n",
       "</table>\n",
       "<p>5 rows × 611 columns</p>\n",
       "</div>"
      ],
      "text/plain": [
       "   bed  bath  propType  Abbotsbury  Abbotsford  Agnes Banks  Airds  \\\n",
       "0  4.0     2         0           1           0            0      0   \n",
       "1  5.0     3         0           1           0            0      0   \n",
       "2  3.0     1         0           1           0            0      0   \n",
       "3  4.0     3         0           1           0            0      0   \n",
       "4  4.0     2         0           1           0            0      0   \n",
       "\n",
       "   Alexandria  Alfords Point  Allambie Heights  ...  Woronora  \\\n",
       "0           0              0                 0  ...         0   \n",
       "1           0              0                 0  ...         0   \n",
       "2           0              0                 0  ...         0   \n",
       "3           0              0                 0  ...         0   \n",
       "4           0              0                 0  ...         0   \n",
       "\n",
       "   Woronora Heights  Yagoona  Yanderra  Yarramundi  Yarrawarrah  Yellow Rock  \\\n",
       "0                 0        0         0           0            0            0   \n",
       "1                 0        0         0           0            0            0   \n",
       "2                 0        0         0           0            0            0   \n",
       "3                 0        0         0           0            0            0   \n",
       "4                 0        0         0           0            0            0   \n",
       "\n",
       "   Yennora  Yowie Bay  Zetland  \n",
       "0        0          0        0  \n",
       "1        0          0        0  \n",
       "2        0          0        0  \n",
       "3        0          0        0  \n",
       "4        0          0        0  \n",
       "\n",
       "[5 rows x 611 columns]"
      ]
     },
     "execution_count": 41,
     "metadata": {},
     "output_type": "execute_result"
    }
   ],
   "source": [
    "X = df6.drop(['sellPrice'],axis='columns')\n",
    "X.head()"
   ]
  },
  {
   "cell_type": "code",
   "execution_count": 42,
   "metadata": {
    "scrolled": true
   },
   "outputs": [
    {
     "data": {
      "text/plain": [
       "0    838000\n",
       "1    930000\n",
       "2    830000\n",
       "3    915000\n",
       "4    867000\n",
       "Name: sellPrice, dtype: int64"
      ]
     },
     "execution_count": 42,
     "metadata": {},
     "output_type": "execute_result"
    }
   ],
   "source": [
    "y = df6.sellPrice\n",
    "y.head()"
   ]
  },
  {
   "cell_type": "code",
   "execution_count": 61,
   "metadata": {},
   "outputs": [],
   "source": [
    "from sklearn.model_selection import train_test_split\n",
    "X_train, X_test, y_train, y_test = train_test_split(X,y,test_size=0.2,random_state=10)"
   ]
  },
  {
   "cell_type": "code",
   "execution_count": 62,
   "metadata": {},
   "outputs": [
    {
     "data": {
      "text/plain": [
       "0.7089829006389572"
      ]
     },
     "execution_count": 62,
     "metadata": {},
     "output_type": "execute_result"
    }
   ],
   "source": [
    "from sklearn.linear_model import LinearRegression\n",
    "lr_clf = LinearRegression()\n",
    "lr_clf.fit(X_train,y_train)\n",
    "lr_clf.score(X_test,y_test)"
   ]
  },
  {
   "cell_type": "markdown",
   "metadata": {},
   "source": [
    "## Use K Fold cross validation to measure accuracy LinearRegression model"
   ]
  },
  {
   "cell_type": "code",
   "execution_count": 28,
   "metadata": {},
   "outputs": [
    {
     "data": {
      "text/plain": [
       "array([0.69890652, 0.70020347, 0.70123238, 0.713521  , 0.70629243])"
      ]
     },
     "execution_count": 28,
     "metadata": {},
     "output_type": "execute_result"
    }
   ],
   "source": [
    "from sklearn.model_selection import ShuffleSplit\n",
    "from sklearn.model_selection import cross_val_score\n",
    "\n",
    "cv = ShuffleSplit(n_splits=5, test_size=0.2, random_state=0)\n",
    "\n",
    "cross_val_score(LinearRegression(), X, y, cv=cv)"
   ]
  },
  {
   "cell_type": "markdown",
   "metadata": {},
   "source": [
    "## Testing the model "
   ]
  },
  {
   "cell_type": "code",
   "execution_count": 49,
   "metadata": {},
   "outputs": [],
   "source": [
    "def predict_price(suburb,bed,bath,prop_type):    \n",
    "    loc_index = np.where(X.columns==suburb)[0][0]\n",
    "\n",
    "    x = np.zeros(len(X.columns))\n",
    "    x[0] = bed\n",
    "    x[1] = bath\n",
    "    x[2] = prop_type\n",
    "    if loc_index >= 0:\n",
    "        x[loc_index] = 1\n",
    "\n",
    "    return lr_clf.predict([x])[0]"
   ]
  },
  {
   "cell_type": "code",
   "execution_count": 59,
   "metadata": {},
   "outputs": [
    {
     "data": {
      "text/plain": [
       "1357127.0482585644"
      ]
     },
     "execution_count": 59,
     "metadata": {},
     "output_type": "execute_result"
    }
   ],
   "source": [
    "predict_price('Castle Hill',4,2,0)"
   ]
  },
  {
   "cell_type": "code",
   "execution_count": 60,
   "metadata": {},
   "outputs": [
    {
     "data": {
      "text/plain": [
       "1357127.0482585644"
      ]
     },
     "execution_count": 60,
     "metadata": {},
     "output_type": "execute_result"
    }
   ],
   "source": [
    "predict_price('Castle Hill',4,2,0)"
   ]
  },
  {
   "cell_type": "code",
   "execution_count": 51,
   "metadata": {},
   "outputs": [
    {
     "data": {
      "text/plain": [
       "829906.3078350514"
      ]
     },
     "execution_count": 51,
     "metadata": {},
     "output_type": "execute_result"
    }
   ],
   "source": [
    "predict_price('Auburn', 4, 2, 0)"
   ]
  },
  {
   "cell_type": "markdown",
   "metadata": {},
   "source": [
    "## Export the model"
   ]
  },
  {
   "cell_type": "code",
   "execution_count": 63,
   "metadata": {},
   "outputs": [],
   "source": [
    "import pickle\n",
    "with open('sydney_house_prices_model.pickle','wb') as f:\n",
    "    pickle.dump(lr_clf,f)"
   ]
  },
  {
   "cell_type": "code",
   "execution_count": 64,
   "metadata": {},
   "outputs": [],
   "source": [
    "import json\n",
    "columns = {\n",
    "    'data_columns' : [col.lower() for col in X.columns]\n",
    "}\n",
    "with open(\"columns.json\",\"w\") as f:\n",
    "    f.write(json.dumps(columns))"
   ]
  },
  {
   "cell_type": "code",
   "execution_count": null,
   "metadata": {},
   "outputs": [],
   "source": []
  }
 ],
 "metadata": {
  "kernelspec": {
   "display_name": "PythonData",
   "language": "python",
   "name": "pythondata"
  },
  "language_info": {
   "codemirror_mode": {
    "name": "ipython",
    "version": 3
   },
   "file_extension": ".py",
   "mimetype": "text/x-python",
   "name": "python",
   "nbconvert_exporter": "python",
   "pygments_lexer": "ipython3",
   "version": "3.6.10"
  }
 },
 "nbformat": 4,
 "nbformat_minor": 4
}
